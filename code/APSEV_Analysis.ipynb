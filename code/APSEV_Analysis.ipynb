{
 "cells": [
  {
   "cell_type": "markdown",
   "metadata": {},
   "source": [
    "# APSEV Analysis"
   ]
  },
  {
   "cell_type": "markdown",
   "metadata": {},
   "source": [
    "## Note: For this analysis we will be using a variety of visualisation tools"
   ]
  },
  {
   "cell_type": "code",
   "execution_count": 1,
   "metadata": {},
   "outputs": [],
   "source": [
    "# Importing our dependancies\n",
    "\n",
    "import seaborn as sns\n",
    "import matplotlib.pyplot as plt\n",
    "from matplotlib import rc\n",
    "import pandas as pd\n",
    "import numpy as np\n",
    "from bokeh.plotting import figure, output_file, show\n",
    "from bokeh.models import ColumnDataSource # similar to a pandas dataframe but specific for bokeh\n",
    "from bokeh.transform import dodge, factor_cmap, factor_mark # a helpful tool for placing bar charts close to each other\n",
    "from bokeh.layouts import row, column, gridplot, layout\n",
    "from bokeh.models import CategoricalColorMapper\n",
    "\n",
    "\n",
    "pd.set_option('display.max_columns', None)\n",
    "\n",
    "%matplotlib inline"
   ]
  },
  {
   "cell_type": "code",
   "execution_count": 2,
   "metadata": {},
   "outputs": [
    {
     "data": {
      "text/html": [
       "<div>\n",
       "<style scoped>\n",
       "    .dataframe tbody tr th:only-of-type {\n",
       "        vertical-align: middle;\n",
       "    }\n",
       "\n",
       "    .dataframe tbody tr th {\n",
       "        vertical-align: top;\n",
       "    }\n",
       "\n",
       "    .dataframe thead th {\n",
       "        text-align: right;\n",
       "    }\n",
       "</style>\n",
       "<table border=\"1\" class=\"dataframe\">\n",
       "  <thead>\n",
       "    <tr style=\"text-align: right;\">\n",
       "      <th></th>\n",
       "      <th>Calendar Year</th>\n",
       "      <th>School Name</th>\n",
       "      <th>Suburb</th>\n",
       "      <th>State</th>\n",
       "      <th>Postcode</th>\n",
       "      <th>School Sector</th>\n",
       "      <th>School Type</th>\n",
       "      <th>Campus Type</th>\n",
       "      <th>School URL</th>\n",
       "      <th>Governing Body</th>\n",
       "      <th>Geolocation</th>\n",
       "      <th>ICSEA</th>\n",
       "      <th>Teaching Staff</th>\n",
       "      <th>Non-Teaching Staff</th>\n",
       "      <th>Total Enrolments</th>\n",
       "      <th>Girls Enrolments</th>\n",
       "      <th>Boys Enrolments</th>\n",
       "      <th>Indigenous Enrolments (%)</th>\n",
       "      <th>Language Background Other Than English (%)</th>\n",
       "    </tr>\n",
       "  </thead>\n",
       "  <tbody>\n",
       "    <tr>\n",
       "      <th>0</th>\n",
       "      <td>2008</td>\n",
       "      <td>Corpus Christi Catholic School</td>\n",
       "      <td>Bellerive</td>\n",
       "      <td>TAS</td>\n",
       "      <td>7018</td>\n",
       "      <td>Catholic</td>\n",
       "      <td>Primary</td>\n",
       "      <td>School Single Entity</td>\n",
       "      <td>http://www.corpuschristi.tas.edu.au</td>\n",
       "      <td>Tasmanian Catholic Education Office</td>\n",
       "      <td>Inner Regional</td>\n",
       "      <td>1055.0</td>\n",
       "      <td>29.0</td>\n",
       "      <td>12.0</td>\n",
       "      <td>410.0</td>\n",
       "      <td>185.0</td>\n",
       "      <td>225.0</td>\n",
       "      <td>1.0</td>\n",
       "      <td>4.0</td>\n",
       "    </tr>\n",
       "    <tr>\n",
       "      <th>1</th>\n",
       "      <td>2009</td>\n",
       "      <td>Corpus Christi Catholic School</td>\n",
       "      <td>Bellerive</td>\n",
       "      <td>TAS</td>\n",
       "      <td>7018</td>\n",
       "      <td>Catholic</td>\n",
       "      <td>Primary</td>\n",
       "      <td>School Single Entity</td>\n",
       "      <td>http://www.corpuschristi.tas.edu.au</td>\n",
       "      <td>Tasmanian Catholic Education Office</td>\n",
       "      <td>Inner Regional</td>\n",
       "      <td>1055.0</td>\n",
       "      <td>27.0</td>\n",
       "      <td>15.0</td>\n",
       "      <td>409.0</td>\n",
       "      <td>184.0</td>\n",
       "      <td>225.0</td>\n",
       "      <td>2.0</td>\n",
       "      <td>4.0</td>\n",
       "    </tr>\n",
       "    <tr>\n",
       "      <th>2</th>\n",
       "      <td>2010</td>\n",
       "      <td>Corpus Christi Catholic School</td>\n",
       "      <td>Bellerive</td>\n",
       "      <td>TAS</td>\n",
       "      <td>7018</td>\n",
       "      <td>Catholic</td>\n",
       "      <td>Primary</td>\n",
       "      <td>School Single Entity</td>\n",
       "      <td>http://www.corpuschristi.tas.edu.au</td>\n",
       "      <td>Tasmanian Catholic Education Office</td>\n",
       "      <td>Inner Regional</td>\n",
       "      <td>1044.0</td>\n",
       "      <td>26.0</td>\n",
       "      <td>18.0</td>\n",
       "      <td>392.0</td>\n",
       "      <td>173.0</td>\n",
       "      <td>219.0</td>\n",
       "      <td>2.0</td>\n",
       "      <td>4.0</td>\n",
       "    </tr>\n",
       "    <tr>\n",
       "      <th>3</th>\n",
       "      <td>2011</td>\n",
       "      <td>Corpus Christi Catholic School</td>\n",
       "      <td>Bellerive</td>\n",
       "      <td>TAS</td>\n",
       "      <td>7018</td>\n",
       "      <td>Catholic</td>\n",
       "      <td>Primary</td>\n",
       "      <td>School Single Entity</td>\n",
       "      <td>http://www.corpuschristi.tas.edu.au</td>\n",
       "      <td>Tasmanian Catholic Education Office</td>\n",
       "      <td>Inner Regional</td>\n",
       "      <td>1046.0</td>\n",
       "      <td>25.0</td>\n",
       "      <td>16.0</td>\n",
       "      <td>385.0</td>\n",
       "      <td>173.0</td>\n",
       "      <td>212.0</td>\n",
       "      <td>0.0</td>\n",
       "      <td>3.0</td>\n",
       "    </tr>\n",
       "    <tr>\n",
       "      <th>4</th>\n",
       "      <td>2012</td>\n",
       "      <td>Corpus Christi Catholic School</td>\n",
       "      <td>Bellerive</td>\n",
       "      <td>TAS</td>\n",
       "      <td>7018</td>\n",
       "      <td>Catholic</td>\n",
       "      <td>Primary</td>\n",
       "      <td>School Single Entity</td>\n",
       "      <td>http://www.corpuschristi.tas.edu.au</td>\n",
       "      <td>Tasmanian Catholic Education Office</td>\n",
       "      <td>Inner Regional</td>\n",
       "      <td>1041.0</td>\n",
       "      <td>24.0</td>\n",
       "      <td>16.0</td>\n",
       "      <td>391.0</td>\n",
       "      <td>185.0</td>\n",
       "      <td>206.0</td>\n",
       "      <td>1.0</td>\n",
       "      <td>3.0</td>\n",
       "    </tr>\n",
       "  </tbody>\n",
       "</table>\n",
       "</div>"
      ],
      "text/plain": [
       "   Calendar Year                     School Name     Suburb State  Postcode  \\\n",
       "0           2008  Corpus Christi Catholic School  Bellerive   TAS      7018   \n",
       "1           2009  Corpus Christi Catholic School  Bellerive   TAS      7018   \n",
       "2           2010  Corpus Christi Catholic School  Bellerive   TAS      7018   \n",
       "3           2011  Corpus Christi Catholic School  Bellerive   TAS      7018   \n",
       "4           2012  Corpus Christi Catholic School  Bellerive   TAS      7018   \n",
       "\n",
       "  School Sector School Type           Campus Type  \\\n",
       "0      Catholic     Primary  School Single Entity   \n",
       "1      Catholic     Primary  School Single Entity   \n",
       "2      Catholic     Primary  School Single Entity   \n",
       "3      Catholic     Primary  School Single Entity   \n",
       "4      Catholic     Primary  School Single Entity   \n",
       "\n",
       "                            School URL                       Governing Body  \\\n",
       "0  http://www.corpuschristi.tas.edu.au  Tasmanian Catholic Education Office   \n",
       "1  http://www.corpuschristi.tas.edu.au  Tasmanian Catholic Education Office   \n",
       "2  http://www.corpuschristi.tas.edu.au  Tasmanian Catholic Education Office   \n",
       "3  http://www.corpuschristi.tas.edu.au  Tasmanian Catholic Education Office   \n",
       "4  http://www.corpuschristi.tas.edu.au  Tasmanian Catholic Education Office   \n",
       "\n",
       "      Geolocation   ICSEA  Teaching Staff  Non-Teaching Staff  \\\n",
       "0  Inner Regional  1055.0            29.0                12.0   \n",
       "1  Inner Regional  1055.0            27.0                15.0   \n",
       "2  Inner Regional  1044.0            26.0                18.0   \n",
       "3  Inner Regional  1046.0            25.0                16.0   \n",
       "4  Inner Regional  1041.0            24.0                16.0   \n",
       "\n",
       "   Total Enrolments  Girls Enrolments  Boys Enrolments  \\\n",
       "0             410.0             185.0            225.0   \n",
       "1             409.0             184.0            225.0   \n",
       "2             392.0             173.0            219.0   \n",
       "3             385.0             173.0            212.0   \n",
       "4             391.0             185.0            206.0   \n",
       "\n",
       "   Indigenous Enrolments (%)  Language Background Other Than English (%)  \n",
       "0                        1.0                                         4.0  \n",
       "1                        2.0                                         4.0  \n",
       "2                        2.0                                         4.0  \n",
       "3                        0.0                                         3.0  \n",
       "4                        1.0                                         3.0  "
      ]
     },
     "execution_count": 2,
     "metadata": {},
     "output_type": "execute_result"
    }
   ],
   "source": [
    "df = pd.read_csv('apsev_clean_dataset.csv')\n",
    "\n",
    "df.head()"
   ]
  },
  {
   "cell_type": "markdown",
   "metadata": {},
   "source": [
    "# Answering questions"
   ]
  },
  {
   "cell_type": "markdown",
   "metadata": {},
   "source": [
    "## Question 1 - Public vs Private, is there a measurable difference based on ICSEA score?"
   ]
  },
  {
   "cell_type": "markdown",
   "metadata": {},
   "source": [
    "Let us first investigate the amount of school types and Sector types we have available in the dataset"
   ]
  },
  {
   "cell_type": "code",
   "execution_count": 3,
   "metadata": {},
   "outputs": [
    {
     "data": {
      "text/plain": [
       "Primary      72665\n",
       "Secondary    16115\n",
       "Combined     15247\n",
       "Special       1310\n",
       "Name: School Type, dtype: int64"
      ]
     },
     "execution_count": 3,
     "metadata": {},
     "output_type": "execute_result"
    }
   ],
   "source": [
    "type_frequency = df['School Type'].value_counts()\n",
    "type_frequency"
   ]
  },
  {
   "cell_type": "code",
   "execution_count": 4,
   "metadata": {},
   "outputs": [
    {
     "data": {
      "text/plain": [
       "Government     74655\n",
       "Catholic       19493\n",
       "Independent    11189\n",
       "Name: School Sector, dtype: int64"
      ]
     },
     "execution_count": 4,
     "metadata": {},
     "output_type": "execute_result"
    }
   ],
   "source": [
    "sector_frequency = df['School Sector'].value_counts()\n",
    "sector_frequency"
   ]
  },
  {
   "cell_type": "markdown",
   "metadata": {},
   "source": [
    "So we can interestingly see that there is another measure known as Independent schools in Australia.  A more official explanation can be found here: \n",
    "\n",
    "*An Independent Public School is a public school that has demonstrated its capacity to use its increased flexibilities and responsibilities to make local decisions across a range of school operations to enhance education outcomes for students.* - Source: <https://www.education.wa.edu.au/independent-public-schools>\n",
    "\n",
    "This changes things a bit: \n",
    "\n",
    "## Question 1.1 - Public vs Private vs Independent, is there a measurable difference based on ICSEA score?"
   ]
  },
  {
   "cell_type": "code",
   "execution_count": 5,
   "metadata": {},
   "outputs": [
    {
     "data": {
      "image/png": "[encoded data removed]",
      "text/plain": [
       "<Figure size 459.25x360 with 1 Axes>"
      ]
     },
     "metadata": {
      "needs_background": "light"
     },
     "output_type": "display_data"
    }
   ],
   "source": [
    "# Lets create our first visualisation\n",
    "\n",
    "sns.relplot(x='Calendar Year', y='ICSEA', data=df, \n",
    "            kind='line', style='School Sector', hue='School Sector', \n",
    "            markers=True, ci=False)\n",
    "\n",
    "\n",
    "plt.xlabel('Calendar Year')\n",
    "plt.ylabel('ICSEA Score')\n",
    "plt.title(\"Overview of ICSEA score across sectors\")\n",
    "\n",
    "plt.savefig(\"ICSEA_overview\", dpi=400)\n",
    "plt.show()"
   ]
  },
  {
   "cell_type": "markdown",
   "metadata": {},
   "source": [
    "At face value we can notice some pretty amazing things, the difference is quite vast when looking from a distance, however the ICSEA Score is much tighter than it first appears. To further that this encompasses primary, high and combined institutes which is rather inaccurate to being with. \n",
    "\n",
    "Let's see if we can make something a touch more accurate by seperating the sectors out and obtaining a mean for the ICSEA Values.\n"
   ]
  },
  {
   "cell_type": "code",
   "execution_count": 6,
   "metadata": {},
   "outputs": [
    {
     "data": {
      "text/html": [
       "<div>\n",
       "<style scoped>\n",
       "    .dataframe tbody tr th:only-of-type {\n",
       "        vertical-align: middle;\n",
       "    }\n",
       "\n",
       "    .dataframe tbody tr th {\n",
       "        vertical-align: top;\n",
       "    }\n",
       "\n",
       "    .dataframe thead th {\n",
       "        text-align: right;\n",
       "    }\n",
       "</style>\n",
       "<table border=\"1\" class=\"dataframe\">\n",
       "  <thead>\n",
       "    <tr style=\"text-align: right;\">\n",
       "      <th></th>\n",
       "      <th>School Sector</th>\n",
       "      <th>count</th>\n",
       "      <th>min</th>\n",
       "      <th>mean</th>\n",
       "      <th>median</th>\n",
       "      <th>max</th>\n",
       "    </tr>\n",
       "  </thead>\n",
       "  <tbody>\n",
       "    <tr>\n",
       "      <th>0</th>\n",
       "      <td>Catholic</td>\n",
       "      <td>19493</td>\n",
       "      <td>100.0</td>\n",
       "      <td>1037.272252</td>\n",
       "      <td>1037.0</td>\n",
       "      <td>1246.0</td>\n",
       "    </tr>\n",
       "    <tr>\n",
       "      <th>1</th>\n",
       "      <td>Government</td>\n",
       "      <td>74655</td>\n",
       "      <td>180.0</td>\n",
       "      <td>982.816462</td>\n",
       "      <td>984.0</td>\n",
       "      <td>1390.0</td>\n",
       "    </tr>\n",
       "    <tr>\n",
       "      <th>2</th>\n",
       "      <td>Independent</td>\n",
       "      <td>11189</td>\n",
       "      <td>100.0</td>\n",
       "      <td>1060.176513</td>\n",
       "      <td>1065.0</td>\n",
       "      <td>1297.0</td>\n",
       "    </tr>\n",
       "  </tbody>\n",
       "</table>\n",
       "</div>"
      ],
      "text/plain": [
       "  School Sector  count    min         mean  median     max\n",
       "0      Catholic  19493  100.0  1037.272252  1037.0  1246.0\n",
       "1    Government  74655  180.0   982.816462   984.0  1390.0\n",
       "2   Independent  11189  100.0  1060.176513  1065.0  1297.0"
      ]
     },
     "execution_count": 6,
     "metadata": {},
     "output_type": "execute_result"
    }
   ],
   "source": [
    "icsea_df = df.groupby('School Sector')['ICSEA'].agg(['count', 'min', 'mean', 'median', 'max'])\n",
    "icsea_df.reset_index(drop=False, inplace=True) # adding this to ensure we can call the school sector value\n",
    "\n",
    "icsea_df"
   ]
  },
  {
   "cell_type": "markdown",
   "metadata": {},
   "source": [
    "Interestingly by removing the calendar year we can start to get an overall picture that is far more understandable. \n",
    "\n",
    "Lets try and plot this using the median. "
   ]
  },
  {
   "cell_type": "code",
   "execution_count": 7,
   "metadata": {},
   "outputs": [
    {
     "data": {
      "image/png": "[encoded data removed]",
      "text/plain": [
       "<Figure size 360x360 with 1 Axes>"
      ]
     },
     "metadata": {
      "needs_background": "light"
     },
     "output_type": "display_data"
    }
   ],
   "source": [
    "sns.catplot(x='School Sector', y='median', data=icsea_df, kind='bar')\n",
    "plt.xlabel(\"School Sector\")\n",
    "plt.ylabel(\"ICSEA Score\")\n",
    "plt.title(\"Median ICSEA Score Per Sector\")\n",
    "plt.savefig(\"Median_ICSEA_score_per_sector.png\", dpi=400)\n",
    "plt.show()"
   ]
  },
  {
   "cell_type": "markdown",
   "metadata": {},
   "source": [
    "Looking at the above we can see the sectors perform very closely, while an arguement could be made on which school to go to based on ICSEA scores alone, it doesnt seem to paint the full picture.  \n",
    "\n",
    "onto question 2"
   ]
  },
  {
   "cell_type": "markdown",
   "metadata": {},
   "source": [
    "## Question 2 - Does location or region matter to educational outcomes? \n",
    "\n",
    "For this question we will try and group the locations together to see if there is any disernable difference between them, lets begin!"
   ]
  },
  {
   "cell_type": "code",
   "execution_count": 8,
   "metadata": {},
   "outputs": [
    {
     "data": {
      "text/plain": [
       "Major Cities      55690\n",
       "Inner Regional    26363\n",
       "Outer Regional    16747\n",
       "Remote             3428\n",
       "Very Remote        3109\n",
       "Name: Geolocation, dtype: int64"
      ]
     },
     "execution_count": 8,
     "metadata": {},
     "output_type": "execute_result"
    }
   ],
   "source": [
    "geo_frequency = df['Geolocation'].value_counts()\n",
    "geo_frequency"
   ]
  },
  {
   "cell_type": "code",
   "execution_count": 9,
   "metadata": {},
   "outputs": [
    {
     "data": {
      "text/html": [
       "<div>\n",
       "<style scoped>\n",
       "    .dataframe tbody tr th:only-of-type {\n",
       "        vertical-align: middle;\n",
       "    }\n",
       "\n",
       "    .dataframe tbody tr th {\n",
       "        vertical-align: top;\n",
       "    }\n",
       "\n",
       "    .dataframe thead th {\n",
       "        text-align: right;\n",
       "    }\n",
       "</style>\n",
       "<table border=\"1\" class=\"dataframe\">\n",
       "  <thead>\n",
       "    <tr style=\"text-align: right;\">\n",
       "      <th></th>\n",
       "      <th>Geolocation</th>\n",
       "      <th>count</th>\n",
       "      <th>min</th>\n",
       "      <th>mean</th>\n",
       "      <th>median</th>\n",
       "      <th>max</th>\n",
       "    </tr>\n",
       "  </thead>\n",
       "  <tbody>\n",
       "    <tr>\n",
       "      <th>0</th>\n",
       "      <td>Inner Regional</td>\n",
       "      <td>26363</td>\n",
       "      <td>123.0</td>\n",
       "      <td>987.725031</td>\n",
       "      <td>990.0</td>\n",
       "      <td>1218.0</td>\n",
       "    </tr>\n",
       "    <tr>\n",
       "      <th>1</th>\n",
       "      <td>Major Cities</td>\n",
       "      <td>55690</td>\n",
       "      <td>100.0</td>\n",
       "      <td>1039.055558</td>\n",
       "      <td>1037.0</td>\n",
       "      <td>1297.0</td>\n",
       "    </tr>\n",
       "    <tr>\n",
       "      <th>2</th>\n",
       "      <td>Outer Regional</td>\n",
       "      <td>16747</td>\n",
       "      <td>514.0</td>\n",
       "      <td>956.133218</td>\n",
       "      <td>965.0</td>\n",
       "      <td>1192.0</td>\n",
       "    </tr>\n",
       "    <tr>\n",
       "      <th>3</th>\n",
       "      <td>Remote</td>\n",
       "      <td>3428</td>\n",
       "      <td>277.0</td>\n",
       "      <td>924.887106</td>\n",
       "      <td>964.0</td>\n",
       "      <td>1231.0</td>\n",
       "    </tr>\n",
       "    <tr>\n",
       "      <th>4</th>\n",
       "      <td>Very Remote</td>\n",
       "      <td>3109</td>\n",
       "      <td>100.0</td>\n",
       "      <td>761.257961</td>\n",
       "      <td>717.0</td>\n",
       "      <td>1390.0</td>\n",
       "    </tr>\n",
       "  </tbody>\n",
       "</table>\n",
       "</div>"
      ],
      "text/plain": [
       "      Geolocation  count    min         mean  median     max\n",
       "0  Inner Regional  26363  123.0   987.725031   990.0  1218.0\n",
       "1    Major Cities  55690  100.0  1039.055558  1037.0  1297.0\n",
       "2  Outer Regional  16747  514.0   956.133218   965.0  1192.0\n",
       "3          Remote   3428  277.0   924.887106   964.0  1231.0\n",
       "4     Very Remote   3109  100.0   761.257961   717.0  1390.0"
      ]
     },
     "execution_count": 9,
     "metadata": {},
     "output_type": "execute_result"
    }
   ],
   "source": [
    "geo_stats = df.groupby('Geolocation')['ICSEA'].agg(['count', 'min', 'mean', 'median', 'max'])\n",
    "geo_stats.reset_index(drop=False, inplace=True)\n",
    "\n",
    "geo_stats"
   ]
  },
  {
   "cell_type": "markdown",
   "metadata": {},
   "source": [
    "Looking at the above table there are a few things to note,\n",
    "- The count of major cities entries dwarfs every other geolocation\n",
    "- the median doesnt paint the whole picture\n",
    "\n",
    "Lets see if we can visualise this better with a stacked bar plot."
   ]
  },
  {
   "cell_type": "code",
   "execution_count": 10,
   "metadata": {},
   "outputs": [
    {
     "data": {
      "image/png": "[encoded data removed]",
      "text/plain": [
       "<Figure size 432x288 with 1 Axes>"
      ]
     },
     "metadata": {
      "needs_background": "light"
     },
     "output_type": "display_data"
    }
   ],
   "source": [
    "geo_stats.set_index('Geolocation').iloc[:, 1:].plot(kind='bar',\n",
    "                                                    use_index=True,\n",
    "                                                    rot=45,\n",
    "                                                    title='Geolocation and its affect on outcomes');"
   ]
  },
  {
   "cell_type": "markdown",
   "metadata": {},
   "source": [
    "Here we can see that even though the very remote regions overall performed slightly less than other regions, they hold the highest max ICSEA score. \n",
    "\n",
    "\n",
    "## Question 3 - Which state performs better?\n",
    "When talking about location, the region is only part of the picture.  We can also look at how each State faired against the others. \n",
    "\n",
    "First let us explore which state had the most entries to better understand if there is any bias to our findings"
   ]
  },
  {
   "cell_type": "code",
   "execution_count": 11,
   "metadata": {},
   "outputs": [
    {
     "data": {
      "text/html": [
       "<div>\n",
       "<style scoped>\n",
       "    .dataframe tbody tr th:only-of-type {\n",
       "        vertical-align: middle;\n",
       "    }\n",
       "\n",
       "    .dataframe tbody tr th {\n",
       "        vertical-align: top;\n",
       "    }\n",
       "\n",
       "    .dataframe thead th {\n",
       "        text-align: right;\n",
       "    }\n",
       "</style>\n",
       "<table border=\"1\" class=\"dataframe\">\n",
       "  <thead>\n",
       "    <tr style=\"text-align: right;\">\n",
       "      <th></th>\n",
       "      <th>State</th>\n",
       "      <th>count</th>\n",
       "      <th>min</th>\n",
       "      <th>mean</th>\n",
       "      <th>median</th>\n",
       "      <th>max</th>\n",
       "    </tr>\n",
       "  </thead>\n",
       "  <tbody>\n",
       "    <tr>\n",
       "      <th>0</th>\n",
       "      <td>ACT</td>\n",
       "      <td>1454</td>\n",
       "      <td>683.0</td>\n",
       "      <td>1082.796424</td>\n",
       "      <td>1087.0</td>\n",
       "      <td>1226.0</td>\n",
       "    </tr>\n",
       "    <tr>\n",
       "      <th>1</th>\n",
       "      <td>NSW</td>\n",
       "      <td>34972</td>\n",
       "      <td>515.0</td>\n",
       "      <td>1006.347192</td>\n",
       "      <td>1006.0</td>\n",
       "      <td>1297.0</td>\n",
       "    </tr>\n",
       "    <tr>\n",
       "      <th>2</th>\n",
       "      <td>NT</td>\n",
       "      <td>2031</td>\n",
       "      <td>100.0</td>\n",
       "      <td>772.194978</td>\n",
       "      <td>761.0</td>\n",
       "      <td>1390.0</td>\n",
       "    </tr>\n",
       "    <tr>\n",
       "      <th>3</th>\n",
       "      <td>QLD</td>\n",
       "      <td>19542</td>\n",
       "      <td>100.0</td>\n",
       "      <td>985.912854</td>\n",
       "      <td>986.0</td>\n",
       "      <td>1241.0</td>\n",
       "    </tr>\n",
       "    <tr>\n",
       "      <th>4</th>\n",
       "      <td>SA</td>\n",
       "      <td>8037</td>\n",
       "      <td>453.0</td>\n",
       "      <td>998.888889</td>\n",
       "      <td>1002.0</td>\n",
       "      <td>1208.0</td>\n",
       "    </tr>\n",
       "    <tr>\n",
       "      <th>5</th>\n",
       "      <td>TAS</td>\n",
       "      <td>2853</td>\n",
       "      <td>696.0</td>\n",
       "      <td>973.818086</td>\n",
       "      <td>967.0</td>\n",
       "      <td>1183.0</td>\n",
       "    </tr>\n",
       "    <tr>\n",
       "      <th>6</th>\n",
       "      <td>VIC</td>\n",
       "      <td>24715</td>\n",
       "      <td>588.0</td>\n",
       "      <td>1027.962371</td>\n",
       "      <td>1020.0</td>\n",
       "      <td>1247.0</td>\n",
       "    </tr>\n",
       "    <tr>\n",
       "      <th>7</th>\n",
       "      <td>WA</td>\n",
       "      <td>11733</td>\n",
       "      <td>381.0</td>\n",
       "      <td>991.917327</td>\n",
       "      <td>1005.0</td>\n",
       "      <td>1258.0</td>\n",
       "    </tr>\n",
       "  </tbody>\n",
       "</table>\n",
       "</div>"
      ],
      "text/plain": [
       "  State  count    min         mean  median     max\n",
       "0   ACT   1454  683.0  1082.796424  1087.0  1226.0\n",
       "1   NSW  34972  515.0  1006.347192  1006.0  1297.0\n",
       "2    NT   2031  100.0   772.194978   761.0  1390.0\n",
       "3   QLD  19542  100.0   985.912854   986.0  1241.0\n",
       "4    SA   8037  453.0   998.888889  1002.0  1208.0\n",
       "5   TAS   2853  696.0   973.818086   967.0  1183.0\n",
       "6   VIC  24715  588.0  1027.962371  1020.0  1247.0\n",
       "7    WA  11733  381.0   991.917327  1005.0  1258.0"
      ]
     },
     "execution_count": 11,
     "metadata": {},
     "output_type": "execute_result"
    }
   ],
   "source": [
    "state_df = df.groupby('State')['ICSEA'].agg(['count', 'min', 'mean', 'median', 'max'])\n",
    "state_df.reset_index(drop=False, inplace=True) # adding this to ensure we can call the school sector value\n",
    "\n",
    "state_df"
   ]
  },
  {
   "cell_type": "code",
   "execution_count": 12,
   "metadata": {},
   "outputs": [
    {
     "data": {
      "image/png": "[encoded data removed]",
      "text/plain": [
       "<Figure size 360x360 with 1 Axes>"
      ]
     },
     "metadata": {
      "needs_background": "light"
     },
     "output_type": "display_data"
    }
   ],
   "source": [
    "sns.catplot(x='State', y='count', data=state_df, kind='bar')\n",
    "plt.xlabel('State')\n",
    "plt.ylabel('Number of entries')\n",
    "plt.title('Number of data entries per state')\n",
    "plt.savefig(\"Number_of_data_entries_per_state.png\", dpi=400)\n",
    "plt.show()"
   ]
  },
  {
   "cell_type": "markdown",
   "metadata": {},
   "source": [
    "From the above we can see that the three major states in education happen to be NSW followed by VIC and lastly QLD.  Lets get a more accurate picture with a boxplot\n"
   ]
  },
  {
   "cell_type": "code",
   "execution_count": 13,
   "metadata": {},
   "outputs": [
    {
     "data": {
      "image/png": "[encoded data removed]",
      "text/plain": [
       "<Figure size 448.75x360 with 1 Axes>"
      ]
     },
     "metadata": {
      "needs_background": "light"
     },
     "output_type": "display_data"
    }
   ],
   "source": [
    "sns.catplot(x='State', \n",
    "            y='ICSEA', \n",
    "            data=df, \n",
    "            kind='box',\n",
    "            hue='School Type')\n",
    "\n",
    "# information about the chart\n",
    "plt.xticks(rotation=45)\n",
    "plt.xlabel(\"State\")\n",
    "plt.ylabel(\"ICSEA Score\")\n",
    "plt.title(\"ICSEA Score by School Type across Australia\")\n",
    "plt.savefig(\"ICSEA_Score_by_School_Type_across_Australia.png\", dpi=400)\n",
    "\n",
    "plt.show()"
   ]
  },
  {
   "cell_type": "markdown",
   "metadata": {},
   "source": [
    "and the winner is? \n",
    "\n",
    "## ACT\n",
    "\n",
    "Each state is fairly close together however we can see that the ACT edges forward.  This doesnt paint the full picture however as if we remember above ACT, NT and TAS had the least amount of entries so this will skew the data. \n",
    "\n",
    "Furthermore as a QLD resident moving to these locations isnt feesable and this will have to be taken into account. \n",
    "\n",
    "Staying on the east coast will be the way to go so lets compare the top 3 contenders; QLD, NSW and VIC\n"
   ]
  },
  {
   "cell_type": "code",
   "execution_count": 14,
   "metadata": {},
   "outputs": [
    {
     "data": {
      "image/png": "[encoded data removed]",
      "text/plain": [
       "<Figure size 448.75x360 with 1 Axes>"
      ]
     },
     "metadata": {
      "needs_background": "light"
     },
     "output_type": "display_data"
    }
   ],
   "source": [
    "sns.catplot(x='State', \n",
    "            y='ICSEA', \n",
    "            data=df[(df['State'] == 'QLD') | (df['State'] == 'NSW') | (df['State'] == 'VIC')], \n",
    "            kind='box',\n",
    "            hue='School Type')\n",
    "\n",
    "# information about the chart\n",
    "plt.xticks(rotation=45)\n",
    "plt.xlabel(\"State\")\n",
    "plt.ylabel(\"ICSEA Score\")\n",
    "plt.title(\"ICSEA Score by School Type across QLD, NSW and VIC\")\n",
    "plt.savefig(\"ICSEA_Score_by_School_Type_across_QLD_NSW_VIC.png\", dpi=400)\n",
    "\n",
    "plt.show()"
   ]
  },
  {
   "cell_type": "markdown",
   "metadata": {},
   "source": [
    "Interestingly enough although being much closer VIC edges out just a little bit, with Combined schools (P-12) being the highest performing school overall. \n",
    "\n",
    "Lets take a closer look at VIC and see how each sector does"
   ]
  },
  {
   "cell_type": "code",
   "execution_count": 15,
   "metadata": {},
   "outputs": [
    {
     "data": {
      "image/png": "[encoded data removed]",
      "text/plain": [
       "<Figure size 448.75x360 with 1 Axes>"
      ]
     },
     "metadata": {
      "needs_background": "light"
     },
     "output_type": "display_data"
    }
   ],
   "source": [
    "sns.catplot(x='School Sector', \n",
    "            y='ICSEA', \n",
    "            data=df[df['State'] == 'VIC'], \n",
    "            kind='box',\n",
    "            hue='School Type')\n",
    "\n",
    "# information about the chart\n",
    "plt.xticks(rotation=45)\n",
    "plt.xlabel(\"School Sector\")\n",
    "plt.ylabel(\"ICSEA Score\")\n",
    "plt.title(\"ICSEA Score by Sector and School Type in VIC\")\n",
    "plt.savefig(\"ICSEA_Score_by_Sector_and_School_Type_in_VIC.png\", dpi=400)\n",
    "\n",
    "plt.show()"
   ]
  },
  {
   "cell_type": "markdown",
   "metadata": {},
   "source": [
    "We can note the outliers but for the most part can asertain the information we need. Judging by this we can see that combined Catholic schools in Victoria overall perform better when judging by the ICSEA score. \n",
    "\n",
    "Moving onwards to the next question\n",
    "\n",
    "## Question 4 - Does gender play a role in learning outcomes? \n",
    "\n",
    "\n",
    "While gender should not be a defining factor in deciding a school, I am interested if it has a measurable difference. Lets see what we find."
   ]
  },
  {
   "cell_type": "code",
   "execution_count": 18,
   "metadata": {},
   "outputs": [],
   "source": [
    "p1 = figure(\n",
    "        title=\"Boys Enrolments and ICSEA Score\",\n",
    "        plot_height=500,\n",
    "        plot_width=600,\n",
    "        y_axis_label='ICSEA Score',\n",
    "        x_axis_label='Number of Boys Enrolled',\n",
    "        \n",
    ")\n",
    "\n",
    "p1.circle(df['Boys Enrolments'], df['ICSEA'],color='navy', size=5, alpha=0.5)\n",
    "output_file('boys enrolments.html')\n",
    "\n",
    "p2 = figure(\n",
    "        title=\"Girls Enrolments and ICSEA Score\",\n",
    "        plot_height=500,\n",
    "        plot_width=600,\n",
    "        y_axis_label='ICSEA Score',\n",
    "        x_axis_label='Number of Girls Enrolled',\n",
    "        \n",
    ")\n",
    "p2.circle(df['Girls Enrolments'], df['ICSEA'],color='#FF8B61', size=5, alpha=0.5)\n",
    "output_file('girls enrolments.html')\n",
    "\n",
    "row_layout1 = row(p1, p2)\n",
    "output_file('ICSEA_by_Gender.html')\n",
    "show(row_layout1)"
   ]
  },
  {
   "cell_type": "markdown",
   "metadata": {},
   "source": [
    "Looking at the above information, there appears to be a trend where the more students enroled regardless of gender, the greater on average the ICSEA score becomes.  This looks to reach an upper threshold with diminishing returns afterwards. \n",
    "\n",
    "Lets see if gender has any significance over school sector"
   ]
  },
  {
   "cell_type": "code",
   "execution_count": 19,
   "metadata": {},
   "outputs": [],
   "source": [
    "school_sector = ['Independent', 'Catholic', 'Government']\n",
    "MARKERS = ['hex', 'circle_x', 'triangle']\n",
    "\n",
    "\n",
    "\n",
    "p3 = figure(\n",
    "        title=\"Boys Enrolments and ICSEA Score across School Sectors\",\n",
    "        plot_height=500,\n",
    "        plot_width=600,\n",
    "        y_axis_label='Number of Boys Enrolled',\n",
    "        x_axis_label='ICSEA Score',\n",
    "        \n",
    ")\n",
    "\n",
    "p3.scatter('ICSEA', 'Boys Enrolments', source=df, legend_field='School Sector', fill_alpha=0.4, size=4,\n",
    "          marker=factor_mark('School Sector', MARKERS, school_sector),\n",
    "          color=factor_cmap('School Sector', 'Category10_3', school_sector))\n",
    "\n",
    "p4 = figure(\n",
    "        title=\"Girls Enrolments and ICSEA Score across School Sectors\",\n",
    "        plot_height=500,\n",
    "        plot_width=600,\n",
    "        y_axis_label='Number of Girls Enrolled',\n",
    "        x_axis_label='ICSEA Score',\n",
    "        \n",
    ")\n",
    "\n",
    "p4.scatter('ICSEA', 'Girls Enrolments', source=df, legend_field='School Sector', fill_alpha=0.4, size=4,\n",
    "          marker=factor_mark('School Sector', MARKERS, school_sector),\n",
    "          color=factor_cmap('School Sector', 'Category10_3', school_sector))\n",
    "\n",
    "row_layout2 = row(p3, p4)\n",
    "output_file('Gender_across_sectors_measured_by_ICSEA.html')\n",
    "show(row_layout2)"
   ]
  },
  {
   "cell_type": "markdown",
   "metadata": {},
   "source": [
    "Interestingly enough the trend between sectors for both male and female students appears to be pretty consistant.  A few outliers here and there but for the most part we can say that gender does not conclusively result in different learning outcomes. "
   ]
  },
  {
   "cell_type": "markdown",
   "metadata": {},
   "source": [
    "## Question 5 - Which school would I choose for my Daughter? \n",
    "\n",
    "If we are going by the above data then we would choose a Catholic Combined school in a NSW Major City.  The caviet to this is that an ICSEA score does not paint a picture on how good a school will be for a child.  There are many other factors that come into play, travel time, extra curricular offerings, beleifs, affordability etc.  The list goes on. \n",
    "\n",
    "While not a conclusive way to show \"Which school is best\" it is interesting to dive into various aspects of Australian Schooling between 2008 - 2019.  \n",
    "\n",
    "We have barely scratched the surface however, and in the future I would love to dive further in to education in Australia and see what we can visually scuplt in the future"
   ]
  },
  {
   "cell_type": "code",
   "execution_count": null,
   "metadata": {},
   "outputs": [],
   "source": []
  }
 ],
 "metadata": {
  "kernelspec": {
   "display_name": "Python 3",
   "language": "python",
   "name": "python3"
  },
  "language_info": {
   "codemirror_mode": {
    "name": "ipython",
    "version": 3
   },
   "file_extension": ".py",
   "mimetype": "text/x-python",
   "name": "python",
   "nbconvert_exporter": "python",
   "pygments_lexer": "ipython3",
   "version": "3.8.3"
  }
 },
 "nbformat": 4,
 "nbformat_minor": 4
}
